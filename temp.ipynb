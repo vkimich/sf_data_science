{
 "cells": [
  {
   "cell_type": "code",
   "execution_count": 23,
   "metadata": {},
   "outputs": [
    {
     "name": "stdout",
     "output_type": "stream",
     "text": [
      "[16 10  6]\n"
     ]
    }
   ],
   "source": [
    "import numpy as np\n",
    "np.random.seed(2021)\n",
    "simple = np.random.rand()\n",
    "randoms = np.random.uniform(-150, 2021, size=120)\n",
    "table = np.random.uniform(1, 100, size=(3,2))\n",
    "even = np.arange(2,17,2)\n",
    "mix = even.copy()\n",
    "np.random.shuffle(mix)\n",
    "select = np.random.choice(mix, replace=False, size = 3)\n",
    "triplet = np.random.permutation(select)\n",
    "\n",
    "print(triplet)"
   ]
  }
 ],
 "metadata": {
  "kernelspec": {
   "display_name": "Python 3",
   "language": "python",
   "name": "python3"
  },
  "language_info": {
   "codemirror_mode": {
    "name": "ipython",
    "version": 3
   },
   "file_extension": ".py",
   "mimetype": "text/x-python",
   "name": "python",
   "nbconvert_exporter": "python",
   "pygments_lexer": "ipython3",
   "version": "3.12.0"
  }
 },
 "nbformat": 4,
 "nbformat_minor": 2
}
